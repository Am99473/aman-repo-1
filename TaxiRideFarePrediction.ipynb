{
 "cells": [
  {
   "cell_type": "code",
   "execution_count": 1,
   "id": "b502a802",
   "metadata": {},
   "outputs": [],
   "source": [
    "import pandas as pd\n",
    "import vaex"
   ]
  },
  {
   "cell_type": "code",
   "execution_count": 2,
   "id": "ad90e132",
   "metadata": {},
   "outputs": [],
   "source": [
    "#d = pd.read_csv('C:\\\\Users\\\\amatiwari\\\\Documents\\\\UBER_CAB_PRICE_PREDICTION_PROJECT\\\\Datasets\\\\uber_car_dataset.csv')"
   ]
  },
  {
   "cell_type": "code",
   "execution_count": 3,
   "id": "19ec1d4c",
   "metadata": {},
   "outputs": [],
   "source": [
    "#dd = vaex.from_pandas(d)"
   ]
  },
  {
   "cell_type": "code",
   "execution_count": 4,
   "id": "89bf7f09",
   "metadata": {},
   "outputs": [],
   "source": [
    "#dd.export_hdf5('C:\\\\Users\\\\amatiwari\\\\Documents\\\\UBER_CAB_PRICE_PREDICTION_PROJECT\\\\Datasets\\\\uber_car_dataset.hdf5')"
   ]
  },
  {
   "cell_type": "code",
   "execution_count": 5,
   "id": "42cbe66b",
   "metadata": {},
   "outputs": [],
   "source": [
    "data = vaex.open('C:\\\\Users\\\\amatiwari\\\\Documents\\\\UBER_CAB_PRICE_PREDICTION_PROJECT\\\\Datasets\\\\uber_car_dataset.hdf5')"
   ]
  },
  {
   "cell_type": "code",
   "execution_count": 6,
   "id": "04eaff2d",
   "metadata": {
    "scrolled": true
   },
   "outputs": [
    {
     "data": {
      "text/html": [
       "<table>\n",
       "<thead>\n",
       "<tr><th>#                            </th><th>key                          </th><th style=\"text-align: right;\">  fare_amount</th><th>pickup_datetime        </th><th style=\"text-align: right;\">  pickup_longitude</th><th style=\"text-align: right;\">  pickup_latitude</th><th style=\"text-align: right;\">  dropoff_longitude</th><th style=\"text-align: right;\">  dropoff_latitude</th><th style=\"text-align: right;\">  passenger_count</th></tr>\n",
       "</thead>\n",
       "<tbody>\n",
       "<tr><td><i style='opacity: 0.6'>0</i></td><td>2015-05-24 22:05:56.0000002  </td><td style=\"text-align: right;\">         12  </td><td>2015-05-24 22:05:56 UTC</td><td style=\"text-align: right;\">          -73.9871</td><td style=\"text-align: right;\">          40.7419</td><td style=\"text-align: right;\">           -73.9522</td><td style=\"text-align: right;\">           40.773 </td><td style=\"text-align: right;\">                1</td></tr>\n",
       "<tr><td><i style='opacity: 0.6'>1</i></td><td>2015-06-08 10:49:14.0000001  </td><td style=\"text-align: right;\">         17.5</td><td>2015-06-08 10:49:14 UTC</td><td style=\"text-align: right;\">          -73.9815</td><td style=\"text-align: right;\">          40.7439</td><td style=\"text-align: right;\">           -74.0139</td><td style=\"text-align: right;\">           40.7126</td><td style=\"text-align: right;\">                1</td></tr>\n",
       "<tr><td><i style='opacity: 0.6'>2</i></td><td>2010-01-30 16:24:00.000000199</td><td style=\"text-align: right;\">          8.9</td><td>2010-01-30 16:24:00 UTC</td><td style=\"text-align: right;\">          -74.0035</td><td style=\"text-align: right;\">          40.714 </td><td style=\"text-align: right;\">           -73.9911</td><td style=\"text-align: right;\">           40.6845</td><td style=\"text-align: right;\">                1</td></tr>\n",
       "<tr><td><i style='opacity: 0.6'>3</i></td><td>2012-09-29 19:51:27.0000006  </td><td style=\"text-align: right;\">          9.5</td><td>2012-09-29 19:51:27 UTC</td><td style=\"text-align: right;\">          -73.9878</td><td style=\"text-align: right;\">          40.7212</td><td style=\"text-align: right;\">           -73.981 </td><td style=\"text-align: right;\">           40.7444</td><td style=\"text-align: right;\">                1</td></tr>\n",
       "<tr><td><i style='opacity: 0.6'>4</i></td><td>2014-01-31 14:42:00.000000181</td><td style=\"text-align: right;\">         12  </td><td>2014-01-31 14:42:00 UTC</td><td style=\"text-align: right;\">          -73.9831</td><td style=\"text-align: right;\">          40.7608</td><td style=\"text-align: right;\">           -73.973 </td><td style=\"text-align: right;\">           40.7542</td><td style=\"text-align: right;\">                1</td></tr>\n",
       "<tr><td><i style='opacity: 0.6'>5</i></td><td>2012-10-28 10:49:00.00000053 </td><td style=\"text-align: right;\">          3  </td><td>2012-10-28 10:49:00 UTC</td><td style=\"text-align: right;\">          -73.987 </td><td style=\"text-align: right;\">          40.7394</td><td style=\"text-align: right;\">           -73.9865</td><td style=\"text-align: right;\">           40.7403</td><td style=\"text-align: right;\">                1</td></tr>\n",
       "<tr><td><i style='opacity: 0.6'>6</i></td><td>2014-03-14 01:09:00.0000008  </td><td style=\"text-align: right;\">          7.5</td><td>2014-03-14 01:09:00 UTC</td><td style=\"text-align: right;\">          -73.9847</td><td style=\"text-align: right;\">          40.7368</td><td style=\"text-align: right;\">           -74.0067</td><td style=\"text-align: right;\">           40.7396</td><td style=\"text-align: right;\">                1</td></tr>\n",
       "<tr><td><i style='opacity: 0.6'>7</i></td><td>2009-06-29 00:42:00.00000078 </td><td style=\"text-align: right;\">         30.9</td><td>2009-06-29 00:42:00 UTC</td><td style=\"text-align: right;\">          -73.986 </td><td style=\"text-align: right;\">          40.7565</td><td style=\"text-align: right;\">           -73.859 </td><td style=\"text-align: right;\">           40.6926</td><td style=\"text-align: right;\">                2</td></tr>\n",
       "<tr><td><i style='opacity: 0.6'>8</i></td><td>2015-05-20 14:56:25.0000004  </td><td style=\"text-align: right;\">         14.5</td><td>2015-05-20 14:56:25 UTC</td><td style=\"text-align: right;\">          -73.9971</td><td style=\"text-align: right;\">          40.7255</td><td style=\"text-align: right;\">           -73.9832</td><td style=\"text-align: right;\">           40.6954</td><td style=\"text-align: right;\">                1</td></tr>\n",
       "<tr><td><i style='opacity: 0.6'>9</i></td><td>2010-05-15 04:08:00.00000076 </td><td style=\"text-align: right;\">         14.1</td><td>2010-05-15 04:08:00 UTC</td><td style=\"text-align: right;\">          -73.9844</td><td style=\"text-align: right;\">          40.7201</td><td style=\"text-align: right;\">           -73.9855</td><td style=\"text-align: right;\">           40.7688</td><td style=\"text-align: right;\">                1</td></tr>\n",
       "</tbody>\n",
       "</table>"
      ],
      "text/plain": [
       "  #  key                              fare_amount  pickup_datetime            pickup_longitude    pickup_latitude    dropoff_longitude    dropoff_latitude    passenger_count\n",
       "  0  2015-05-24 22:05:56.0000002             12    2015-05-24 22:05:56 UTC            -73.9871            40.7419             -73.9522             40.773                   1\n",
       "  1  2015-06-08 10:49:14.0000001             17.5  2015-06-08 10:49:14 UTC            -73.9815            40.7439             -74.0139             40.7126                  1\n",
       "  2  2010-01-30 16:24:00.000000199            8.9  2010-01-30 16:24:00 UTC            -74.0035            40.714              -73.9911             40.6845                  1\n",
       "  3  2012-09-29 19:51:27.0000006              9.5  2012-09-29 19:51:27 UTC            -73.9878            40.7212             -73.981              40.7444                  1\n",
       "  4  2014-01-31 14:42:00.000000181           12    2014-01-31 14:42:00 UTC            -73.9831            40.7608             -73.973              40.7542                  1\n",
       "  5  2012-10-28 10:49:00.00000053             3    2012-10-28 10:49:00 UTC            -73.987             40.7394             -73.9865             40.7403                  1\n",
       "  6  2014-03-14 01:09:00.0000008              7.5  2014-03-14 01:09:00 UTC            -73.9847            40.7368             -74.0067             40.7396                  1\n",
       "  7  2009-06-29 00:42:00.00000078            30.9  2009-06-29 00:42:00 UTC            -73.986             40.7565             -73.859              40.6926                  2\n",
       "  8  2015-05-20 14:56:25.0000004             14.5  2015-05-20 14:56:25 UTC            -73.9971            40.7255             -73.9832             40.6954                  1\n",
       "  9  2010-05-15 04:08:00.00000076            14.1  2010-05-15 04:08:00 UTC            -73.9844            40.7201             -73.9855             40.7688                  1"
      ]
     },
     "execution_count": 6,
     "metadata": {},
     "output_type": "execute_result"
    }
   ],
   "source": [
    "data.tail(10)"
   ]
  },
  {
   "cell_type": "code",
   "execution_count": null,
   "id": "c66a47fc",
   "metadata": {
    "scrolled": true
   },
   "outputs": [],
   "source": [
    "data.info()"
   ]
  },
  {
   "cell_type": "code",
   "execution_count": null,
   "id": "3bcd7ba5",
   "metadata": {
    "scrolled": false
   },
   "outputs": [],
   "source": [
    "data.describe()"
   ]
  },
  {
   "cell_type": "code",
   "execution_count": 7,
   "id": "35b104a3",
   "metadata": {},
   "outputs": [],
   "source": [
    "#CHECKING NULL VALUES FOR ALL THE COLUMNS OF YOUR DATASET\n",
    "def checking_null():\n",
    "    \n",
    "    col = data.column_names\n",
    "    D = dict()\n",
    "    \n",
    "    for i in col:\n",
    "        D[i] = data[i].isnan().sum().item()\n",
    "        \n",
    "    return D"
   ]
  },
  {
   "cell_type": "code",
   "execution_count": null,
   "id": "58e7c137",
   "metadata": {},
   "outputs": [],
   "source": [
    "Dictionary = checking_null()\n",
    "Dictionary"
   ]
  },
  {
   "cell_type": "code",
   "execution_count": 8,
   "id": "39cc643e",
   "metadata": {},
   "outputs": [],
   "source": [
    "# REPLACING NAN VALUES WITH ZEROS.\n",
    "\n",
    "# ONLY TWO COLUMNS HAVE NULL VALUES BUT WE ARE DOINGT IT FOR ALL THE COLUMNS\n",
    "# AS BELOW IS THE BEST PRACTICE TO HANDLE NULL VALUES. COORD SHOULD CONTAINS ALL YOUR NULL VALUES THEN REPLACE THEM WITH 0.\n",
    "\n",
    "import numpy as np \n",
    "\n",
    "coord = ['pickup_longitude','pickup_latitude', \n",
    "         'dropoff_longitude', 'dropoff_latitude']\n",
    "\n",
    "for i in coord :\n",
    "    data[i] = data[i].fillna(0)\n",
    "    data = data[~(data[i].isna())]   # Getting all the not null values of dataset.\n"
   ]
  },
  {
   "cell_type": "code",
   "execution_count": 9,
   "id": "4c381906",
   "metadata": {},
   "outputs": [
    {
     "data": {
      "text/html": [
       "<table>\n",
       "<thead>\n",
       "<tr><th>#                                     </th><th>key                          </th><th>fare_amount  </th><th>pickup_datetime        </th><th>pickup_longitude  </th><th>pickup_latitude  </th><th>dropoff_longitude  </th><th>dropoff_latitude  </th><th>passenger_count  </th></tr>\n",
       "</thead>\n",
       "<tbody>\n",
       "<tr><td><i style='opacity: 0.6'>0</i>         </td><td>2009-06-15 17:26:21.0000001  </td><td>4.5          </td><td>2009-06-15 17:26:21 UTC</td><td>-73.844311        </td><td>40.721319        </td><td>-73.84161          </td><td>40.712278         </td><td>1                </td></tr>\n",
       "<tr><td><i style='opacity: 0.6'>1</i>         </td><td>2010-01-05 16:52:16.0000002  </td><td>16.9         </td><td>2010-01-05 16:52:16 UTC</td><td>-74.016048        </td><td>40.711303        </td><td>-73.979268         </td><td>40.782004         </td><td>1                </td></tr>\n",
       "<tr><td><i style='opacity: 0.6'>2</i>         </td><td>2011-08-18 00:35:00.00000049 </td><td>5.7          </td><td>2011-08-18 00:35:00 UTC</td><td>-73.982738        </td><td>40.76127         </td><td>-73.991242         </td><td>40.750562         </td><td>2                </td></tr>\n",
       "<tr><td><i style='opacity: 0.6'>3</i>         </td><td>2012-04-21 04:30:42.0000001  </td><td>7.7          </td><td>2012-04-21 04:30:42 UTC</td><td>-73.98713         </td><td>40.733143        </td><td>-73.991567         </td><td>40.758092         </td><td>1                </td></tr>\n",
       "<tr><td><i style='opacity: 0.6'>4</i>         </td><td>2010-03-09 07:51:00.000000135</td><td>5.3          </td><td>2010-03-09 07:51:00 UTC</td><td>-73.968095        </td><td>40.768008        </td><td>-73.956655         </td><td>40.783762         </td><td>1                </td></tr>\n",
       "<tr><td>...                                   </td><td>...                          </td><td>...          </td><td>...                    </td><td>...               </td><td>...              </td><td>...                </td><td>...               </td><td>...              </td></tr>\n",
       "<tr><td><i style='opacity: 0.6'>55,623,851</i></td><td>2012-10-28 10:49:00.00000053 </td><td>3.0          </td><td>2012-10-28 10:49:00 UTC</td><td>-73.987042        </td><td>40.739367        </td><td>-73.986525         </td><td>40.740297         </td><td>1                </td></tr>\n",
       "<tr><td><i style='opacity: 0.6'>55,623,852</i></td><td>2014-03-14 01:09:00.0000008  </td><td>7.5          </td><td>2014-03-14 01:09:00 UTC</td><td>-73.98472199999999</td><td>40.736837        </td><td>-74.006672         </td><td>40.73962          </td><td>1                </td></tr>\n",
       "<tr><td><i style='opacity: 0.6'>55,623,853</i></td><td>2009-06-29 00:42:00.00000078 </td><td>30.9         </td><td>2009-06-29 00:42:00 UTC</td><td>-73.986017        </td><td>40.756487        </td><td>-73.85895699999999 </td><td>40.692588         </td><td>2                </td></tr>\n",
       "<tr><td><i style='opacity: 0.6'>55,623,854</i></td><td>2015-05-20 14:56:25.0000004  </td><td>14.5         </td><td>2015-05-20 14:56:25 UTC</td><td>-73.99712371826173</td><td>40.7254524230957 </td><td>-73.98321533203125 </td><td>40.69541549682617 </td><td>1                </td></tr>\n",
       "<tr><td><i style='opacity: 0.6'>55,623,855</i></td><td>2010-05-15 04:08:00.00000076 </td><td>14.1         </td><td>2010-05-15 04:08:00 UTC</td><td>-73.98439499999999</td><td>40.720077        </td><td>-73.985508         </td><td>40.768793         </td><td>1                </td></tr>\n",
       "</tbody>\n",
       "</table>"
      ],
      "text/plain": [
       "#           key                            fare_amount    pickup_datetime          pickup_longitude    pickup_latitude    dropoff_longitude    dropoff_latitude    passenger_count\n",
       "0           2009-06-15 17:26:21.0000001    4.5            2009-06-15 17:26:21 UTC  -73.844311          40.721319          -73.84161            40.712278           1\n",
       "1           2010-01-05 16:52:16.0000002    16.9           2010-01-05 16:52:16 UTC  -74.016048          40.711303          -73.979268           40.782004           1\n",
       "2           2011-08-18 00:35:00.00000049   5.7            2011-08-18 00:35:00 UTC  -73.982738          40.76127           -73.991242           40.750562           2\n",
       "3           2012-04-21 04:30:42.0000001    7.7            2012-04-21 04:30:42 UTC  -73.98713           40.733143          -73.991567           40.758092           1\n",
       "4           2010-03-09 07:51:00.000000135  5.3            2010-03-09 07:51:00 UTC  -73.968095          40.768008          -73.956655           40.783762           1\n",
       "...         ...                            ...            ...                      ...                 ...                ...                  ...                 ...\n",
       "55,623,851  2012-10-28 10:49:00.00000053   3.0            2012-10-28 10:49:00 UTC  -73.987042          40.739367          -73.986525           40.740297           1\n",
       "55,623,852  2014-03-14 01:09:00.0000008    7.5            2014-03-14 01:09:00 UTC  -73.98472199999999  40.736837          -74.006672           40.73962            1\n",
       "55,623,853  2009-06-29 00:42:00.00000078   30.9           2009-06-29 00:42:00 UTC  -73.986017          40.756487          -73.85895699999999   40.692588           2\n",
       "55,623,854  2015-05-20 14:56:25.0000004    14.5           2015-05-20 14:56:25 UTC  -73.99712371826173  40.7254524230957   -73.98321533203125   40.69541549682617   1\n",
       "55,623,855  2010-05-15 04:08:00.00000076   14.1           2010-05-15 04:08:00 UTC  -73.98439499999999  40.720077          -73.985508           40.768793           1"
      ]
     },
     "execution_count": 9,
     "metadata": {},
     "output_type": "execute_result"
    }
   ],
   "source": [
    "data"
   ]
  },
  {
   "cell_type": "code",
   "execution_count": null,
   "id": "27a82e50",
   "metadata": {},
   "outputs": [],
   "source": [
    "Dictionary = checking_null()\n",
    "Dictionary"
   ]
  },
  {
   "cell_type": "code",
   "execution_count": null,
   "id": "35df9882",
   "metadata": {},
   "outputs": [],
   "source": []
  },
  {
   "cell_type": "code",
   "execution_count": 10,
   "id": "454c08d3",
   "metadata": {},
   "outputs": [],
   "source": [
    "# converting and breaking of datetime column into year, month, day , Hour , Minutes , Seconds \n",
    "\n",
    "data['Year'] = data['pickup_datetime'].apply(lambda x: int(x.split(' ')[0].split('-')[0]))\n",
    "data['Month'] = data['pickup_datetime'].apply(lambda x: int(x.split(' ')[0].split('-')[1]))\n",
    "data['Date'] = data['pickup_datetime'].apply(lambda x: int(x.split(' ')[0].split('-')[2]))\n",
    "\n",
    "\n",
    "data['Hours'] = data['pickup_datetime'].apply(lambda x: int(x.split(' ')[1].split(':')[0]))\n",
    "data['Minutes'] = data['pickup_datetime'].apply(lambda x: int(x.split(' ')[1].split(':')[1]))\n",
    "data['Sec'] = data['pickup_datetime'].apply(lambda x: int(x.split(' ')[1].split(':')[2]))\n"
   ]
  },
  {
   "cell_type": "code",
   "execution_count": null,
   "id": "e2552b44",
   "metadata": {},
   "outputs": [],
   "source": [
    "data"
   ]
  },
  {
   "cell_type": "code",
   "execution_count": 11,
   "id": "ac6822eb",
   "metadata": {
    "scrolled": true
   },
   "outputs": [
    {
     "data": {
      "text/plain": [
       "array(54175035, dtype=int64)"
      ]
     },
     "execution_count": 11,
     "metadata": {},
     "output_type": "execute_result"
    }
   ],
   "source": [
    "# we are removing all the values of Pickup & dropoff latitude & Longitude which does not fall under the New york boundaries\n",
    "# latitude or longitude. #(Removing actual Outlier) through domain knowledge.\n",
    "\n",
    "# New York Boundaries = Latitude ( 40.4944444444444 - 40.9999999999 )\n",
    "# New York Boundaries = Longitude ( -73.290277777777 - 74.8400222222 )\n",
    "\n",
    "# Trip Fare amount can't be nagtive or zero and passenfer_count should be in between 1 to 7 as minimum one people should book a cab\n",
    "# else a bigger prime cab can contain maximum 7 people ata time for pickup & dropoff.\n",
    "\n",
    "# ---------------------------------------------------------------------------------------------\n",
    "\n",
    "data = data[((data['pickup_latitude'] > 40.50) & (data['pickup_latitude'] < 40.90)) & \n",
    "            ((data['dropoff_latitude'] > 40.50) & (data['dropoff_latitude'] < 40.90)) & \n",
    "            ((data['pickup_longitude'] > -74.28)  & (data['pickup_longitude'] < -73.70)) &\n",
    "            ((data['dropoff_longitude'] > -74.28)  & (data['dropoff_longitude'] < -73.70)) &\n",
    "            ((data['passenger_count'] >= 1) & (data['passenger_count'] <= 7)) &\n",
    "            ((data['fare_amount'] >= 2.5)) ]\n",
    "\n",
    "data.count()"
   ]
  },
  {
   "cell_type": "code",
   "execution_count": 12,
   "id": "9af20c09",
   "metadata": {},
   "outputs": [],
   "source": [
    "def getDistanceLatLonInKM(pick_lat,pick_lon,drop_lat,drop_lon):\n",
    "    \n",
    "    R = 6373.0\n",
    "\n",
    "    pickup_lat  = pick_lat.apply(lambda x : np.radians(x))\n",
    "    pickup_lon  = pick_lon.apply(lambda x : np.radians(x))\n",
    "    dropoff_lat = drop_lat.apply(lambda x : np.radians(x))\n",
    "    dropoff_lon = drop_lon.apply(lambda x : np.radians(x))\n",
    "    \n",
    "\n",
    "    dist_lon = dropoff_lon - pickup_lon\n",
    "    dist_lat = dropoff_lat - pickup_lat\n",
    "\n",
    "\n",
    "    a = (np.sin(dist_lat/2))**2 + np.cos(pickup_lat) * np.cos(dropoff_lat) * (np.sin(dist_lon/2))**2 \n",
    "    c = 2 * np.arctan2( np.sqrt(a), np.sqrt(1-a) ) \n",
    "    d = R * c \n",
    "\n",
    "    data[\"Distance_In_KM\"] = d\n"
   ]
  },
  {
   "cell_type": "code",
   "execution_count": null,
   "id": "bebfc641",
   "metadata": {},
   "outputs": [],
   "source": []
  },
  {
   "cell_type": "code",
   "execution_count": 14,
   "id": "843eb775",
   "metadata": {},
   "outputs": [],
   "source": [
    "getDistanceLatLonInKM(data['pickup_latitude'] , data['pickup_longitude'] , \n",
    "                      data['dropoff_latitude'], data['dropoff_longitude'])"
   ]
  },
  {
   "cell_type": "code",
   "execution_count": 15,
   "id": "02000c6b",
   "metadata": {},
   "outputs": [],
   "source": [
    "data = data[~(data['Distance_In_KM'] < 0.7)]"
   ]
  },
  {
   "cell_type": "code",
   "execution_count": null,
   "id": "d4352202",
   "metadata": {},
   "outputs": [],
   "source": [
    "data.count()"
   ]
  },
  {
   "cell_type": "code",
   "execution_count": null,
   "id": "f90e8040",
   "metadata": {},
   "outputs": [],
   "source": [
    "summary = data.describe().transpose().reset_index().rename(columns = {\"index\" : \"variable\"})\n",
    "summary"
   ]
  },
  {
   "cell_type": "code",
   "execution_count": null,
   "id": "0616344d",
   "metadata": {},
   "outputs": [],
   "source": [
    "summary  = np.around(summary,2)\n",
    "summary"
   ]
  },
  {
   "cell_type": "code",
   "execution_count": null,
   "id": "6c04beed",
   "metadata": {},
   "outputs": [],
   "source": []
  },
  {
   "cell_type": "code",
   "execution_count": null,
   "id": "a0eb4c36",
   "metadata": {},
   "outputs": [],
   "source": [
    "import plotly.graph_objs as go"
   ]
  },
  {
   "cell_type": "code",
   "execution_count": null,
   "id": "5a1f6f4d",
   "metadata": {},
   "outputs": [],
   "source": [
    "\n",
    "var_lst = [summary[\"variable\"],summary[\"count\"],summary['mean'],summary['std'],\n",
    "           summary[\"min\"],summary[\"max\"]]\n",
    "\n",
    "table = go.Table(header = dict(values = summary.columns.tolist(),\n",
    "                               line = dict(color = ['#506784']),\n",
    "                               fill = dict(color = ['#119DFF']),\n",
    "                              ),\n",
    "                 cells  = dict(values = var_lst,\n",
    "                               line = dict(color = ['#506784']),\n",
    "                               fill = dict(color = [\"lightgrey\",'#F5F8FF']),\n",
    "                              ),\n",
    "                 columnwidth = [130,80,80,80,80,80,80,80,80])\n",
    "\n",
    "table"
   ]
  },
  {
   "cell_type": "code",
   "execution_count": null,
   "id": "e0b17a14",
   "metadata": {},
   "outputs": [],
   "source": [
    "import plotly.offline as py\n",
    "\n",
    "\n",
    "summary = data.describe().transpose().reset_index().rename(columns = {\"index\" : \n",
    "                                                                          \"variable\"})\n",
    "summary  = np.around(summary,2)\n",
    "\n",
    "var_lst = [summary[\"variable\"],summary[\"count\"],summary['mean'],summary['std'],\n",
    "           summary[\"min\"],summary[\"max\"]]\n",
    "\n",
    "table = go.Table(header = dict(values = summary.columns.tolist(),\n",
    "                               line = dict(color = ['#506784']),\n",
    "                               fill = dict(color = ['#119DFF']),\n",
    "                              ),\n",
    "                 cells  = dict(values = var_lst,\n",
    "                               line = dict(color = ['#506784']),\n",
    "                               fill = dict(color = [\"lightgrey\",'#F5F8FF']),\n",
    "                              ),\n",
    "                 columnwidth = [130,80,80,80,80,80,80,80,80])\n",
    "                \n",
    "layout = go.Layout(dict(title = \"Variable Summary\"))\n",
    "figure = go.Figure(data=[table],layout=layout)\n",
    "py.iplot(figure)"
   ]
  },
  {
   "cell_type": "code",
   "execution_count": null,
   "id": "ed8d1f96",
   "metadata": {},
   "outputs": [],
   "source": [
    "\n",
    "layout = go.Layout(dict(title = \"Variable Summary\"))\n",
    "layout"
   ]
  },
  {
   "cell_type": "code",
   "execution_count": null,
   "id": "342942b8",
   "metadata": {},
   "outputs": [],
   "source": [
    "figure = go.Figure(data=[table],layout=layout)\n",
    "figure"
   ]
  },
  {
   "cell_type": "code",
   "execution_count": null,
   "id": "2882c81a",
   "metadata": {},
   "outputs": [],
   "source": [
    "import plotly.offline as py"
   ]
  },
  {
   "cell_type": "code",
   "execution_count": null,
   "id": "db3c5252",
   "metadata": {},
   "outputs": [],
   "source": [
    "trace = go.Pie(values = [data.shape[0],5000000 - data.shape[0]],\n",
    "               labels = [\"Available data\" , \"Data loss due to outliers and missing values\"],\n",
    "               marker = dict(colors =  [ 'royalblue' ,'lime'],line = dict(color = \"black\",\n",
    "                                                                          width =  1.5)),\n",
    "               rotation  = 60,\n",
    "               hoverinfo = \"label+percent\",\n",
    "              )\n",
    "\n",
    "layout = go.Layout(dict(title = \"Data Loss due to outliers and missing values\",\n",
    "                        plot_bgcolor  = \"rgb(243,243,243)\",\n",
    "                        paper_bgcolor = \"rgb(243,243,243)\",\n",
    "                       )\n",
    "                  )\n",
    "\n",
    "fig = go.Figure(data=[trace],layout=layout)\n",
    "py.iplot(fig)"
   ]
  },
  {
   "cell_type": "code",
   "execution_count": null,
   "id": "f4e232e7",
   "metadata": {},
   "outputs": [],
   "source": [
    "import os \n",
    "import matplotlib.pyplot as plt \n",
    "import seaborn as sns \n",
    "%matplotlib inline\n",
    "import itertools\n",
    "import plotly.offline as py\n",
    "py.init_notebook_mode(connected=True)\n",
    "import plotly.graph_objs as go\n",
    "import plotly.tools as tls\n",
    "import plotly.figure_factory as ff\n",
    "import warnings\n",
    "warnings.filterwarnings(\"ignore\")\n"
   ]
  },
  {
   "cell_type": "code",
   "execution_count": null,
   "id": "1adc0832",
   "metadata": {},
   "outputs": [],
   "source": []
  },
  {
   "cell_type": "code",
   "execution_count": null,
   "id": "4175caae",
   "metadata": {},
   "outputs": [],
   "source": [
    "# yearly Analysis of dataset.\n",
    "\n",
    "yearly_analysis  = data.groupby('Year').agg({\"key\":\"count\",\n",
    "                                                 \"fare_amount\":\"sum\",\n",
    "                                                 \"passenger_count\":\"sum\",\n",
    "                                                 \"Distance_In_KM\" : \"sum\"})\n",
    "\n",
    "yearly_analysis"
   ]
  },
  {
   "cell_type": "code",
   "execution_count": null,
   "id": "a8fa0aa9",
   "metadata": {},
   "outputs": [],
   "source": [
    "yearly_analysis.rename('key','Trip_Count')"
   ]
  },
  {
   "cell_type": "code",
   "execution_count": null,
   "id": "1590ded9",
   "metadata": {},
   "outputs": [],
   "source": [
    "yearly_analysis"
   ]
  },
  {
   "cell_type": "code",
   "execution_count": null,
   "id": "289b171f",
   "metadata": {},
   "outputs": [],
   "source": [
    "# Hourly Analysis of a dataset."
   ]
  },
  {
   "cell_type": "code",
   "execution_count": null,
   "id": "08241bbf",
   "metadata": {},
   "outputs": [],
   "source": [
    "Hours_analysis  = data.groupby('Hours').agg({\"key\":\"count\",\n",
    "                                             \"fare_amount\":\"sum\",\n",
    "                                             \"passenger_count\":\"sum\",\n",
    "                                             \"Distance_In_KM\" : \"sum\"})\n",
    "\n",
    "Hours_analysis"
   ]
  },
  {
   "cell_type": "code",
   "execution_count": null,
   "id": "33f9a1d4",
   "metadata": {},
   "outputs": [],
   "source": [
    "# Trips count on basis of hours."
   ]
  },
  {
   "cell_type": "code",
   "execution_count": null,
   "id": "aaae7061",
   "metadata": {
    "scrolled": true
   },
   "outputs": [],
   "source": [
    "# No of Trips by hour.\n",
    "\n",
    "trips_hr = data[\"Hours\"].value_counts().reset_index()\n",
    "trips_hr.columns = [\"Hours\",\"count\"]\n",
    "trips_hr = trips_hr.sort_values(by = \"Hours\",ascending = True)"
   ]
  },
  {
   "cell_type": "code",
   "execution_count": null,
   "id": "978bd7bc",
   "metadata": {
    "scrolled": true
   },
   "outputs": [],
   "source": [
    "trips_hr"
   ]
  },
  {
   "cell_type": "code",
   "execution_count": null,
   "id": "4b55364a",
   "metadata": {},
   "outputs": [],
   "source": [
    "# Average fare by hour."
   ]
  },
  {
   "cell_type": "code",
   "execution_count": null,
   "id": "fc6e2e44",
   "metadata": {},
   "outputs": [],
   "source": [
    "avg_fare_hr = data.groupby(\"Hours\").agg({\"fare_amount\":\"mean\"})"
   ]
  },
  {
   "cell_type": "code",
   "execution_count": null,
   "id": "b237d849",
   "metadata": {},
   "outputs": [],
   "source": [
    "avg_fare_hr"
   ]
  },
  {
   "cell_type": "code",
   "execution_count": null,
   "id": "14d03420",
   "metadata": {
    "scrolled": true
   },
   "outputs": [],
   "source": [
    "avg_fare_hr['fare_amount'] = avg_fare_hr['fare_amount'].apply(lambda x : round(x,4))\n",
    "avg_fare_hr"
   ]
  },
  {
   "cell_type": "code",
   "execution_count": null,
   "id": "1432c51a",
   "metadata": {
    "scrolled": true
   },
   "outputs": [],
   "source": [
    "data"
   ]
  },
  {
   "cell_type": "code",
   "execution_count": null,
   "id": "d53a0004",
   "metadata": {},
   "outputs": [],
   "source": [
    "# Analysis\n",
    "# Seasonal Trend in trips, passengers and fare amount."
   ]
  },
  {
   "cell_type": "code",
   "execution_count": null,
   "id": "d6c77404",
   "metadata": {
    "scrolled": true
   },
   "outputs": [],
   "source": [
    "#aggregate by year-month(trips)\n",
    "trip_count = data.groupby([\"Year\",\"Month\"]).agg({'key':'count'})\n",
    "trip_count.rename('key','Trip_count')\n",
    "trip_count"
   ]
  },
  {
   "cell_type": "code",
   "execution_count": null,
   "id": "89953d1a",
   "metadata": {},
   "outputs": [],
   "source": [
    "# aggregate by year-month(passengers)\n",
    "passenger_count = data.groupby(['Year','Month']).agg({'passenger_count':'sum'})"
   ]
  },
  {
   "cell_type": "code",
   "execution_count": null,
   "id": "01b33e2a",
   "metadata": {},
   "outputs": [],
   "source": [
    "passenger_count"
   ]
  },
  {
   "cell_type": "code",
   "execution_count": null,
   "id": "fa99b81a",
   "metadata": {},
   "outputs": [],
   "source": [
    "#aggregate by year-month(fare amount)\n",
    "total_fare = (data.groupby([\"Year\",\"Month\"]).agg({'fare_amount':'sum'}))"
   ]
  },
  {
   "cell_type": "code",
   "execution_count": null,
   "id": "10ec7e99",
   "metadata": {},
   "outputs": [],
   "source": [
    "total_fare"
   ]
  },
  {
   "cell_type": "code",
   "execution_count": null,
   "id": "428e5aa1",
   "metadata": {},
   "outputs": [],
   "source": [
    "#aggregate by year-month(total trip distance)\n",
    "total_trip_dist = (data.groupby([\"Year\",\"Month\"]).agg({'Distance_In_KM':'sum'}))"
   ]
  },
  {
   "cell_type": "code",
   "execution_count": null,
   "id": "fc31aaad",
   "metadata": {},
   "outputs": [],
   "source": [
    "total_trip_dist['Distance_In_KM'] = total_trip_dist['Distance_In_KM'].apply(lambda x: round(x,3))\n",
    "total_trip_dist"
   ]
  },
  {
   "cell_type": "code",
   "execution_count": null,
   "id": "1e4f30d2",
   "metadata": {},
   "outputs": [],
   "source": [
    "# Co-relation between differetn columns through making a join between different columns dataframe.\n",
    "\n",
    "# In Vaex dataframe, Use join to merge dataframes for analytics but join() fucntion was giving some error so\n",
    "# we converted our Vaex dataframe into Pandas dataframe as these mini dataframe created for analytics dont have large \n",
    "# dataset(no of rows) so we can easily use pd.merge() to merge and analyse the dataframe."
   ]
  },
  {
   "cell_type": "code",
   "execution_count": null,
   "id": "20eb67b7",
   "metadata": {},
   "outputs": [],
   "source": [
    "trip_count_pandas = trip_count.to_pandas_df()\n",
    "type(trip_count_pandas)"
   ]
  },
  {
   "cell_type": "code",
   "execution_count": null,
   "id": "bbd89e91",
   "metadata": {},
   "outputs": [],
   "source": [
    "passenger_count_pandas = passenger_count.to_pandas_df()\n",
    "type(passenger_count_pandas)"
   ]
  },
  {
   "cell_type": "code",
   "execution_count": null,
   "id": "ae2a0718",
   "metadata": {},
   "outputs": [],
   "source": [
    "# Merging trip_count data , passenger_count\n",
    "\n",
    "Merge1 = trip_count_pandas.merge(passenger_count_pandas, left_on= 'Year', right_on= 'Year' , how='left' )\n",
    "Merge1"
   ]
  },
  {
   "cell_type": "code",
   "execution_count": null,
   "id": "948f9985",
   "metadata": {},
   "outputs": [],
   "source": [
    "total_fare_pandas = total_fare.to_pandas_df()\n",
    "type(total_fare)"
   ]
  },
  {
   "cell_type": "code",
   "execution_count": null,
   "id": "32fb558e",
   "metadata": {},
   "outputs": [],
   "source": [
    "total_trip_dist_pandas = total_trip_dist.to_pandas_df()\n",
    "type(total_trip_dist)"
   ]
  },
  {
   "cell_type": "code",
   "execution_count": null,
   "id": "8471135c",
   "metadata": {},
   "outputs": [],
   "source": [
    "# Merging Fare_amount and Distance travelled data\n",
    "\n",
    "Merge2 = total_fare_pandas.merge(total_trip_dist_pandas, left_on= 'Year', right_on= 'Year' , how='left')\n",
    "Merge2"
   ]
  },
  {
   "cell_type": "code",
   "execution_count": null,
   "id": "0d37891e",
   "metadata": {},
   "outputs": [],
   "source": [
    "# Merging trip_count data , passenger_count , Fare_amount , Distance_travelled.\n",
    "\n",
    "final_Merge1_Merge2 = Merge1.merge(Merge2, left_on = 'Year', right_on = 'Year', how = 'left')\n",
    "final_Merge1_Merge2"
   ]
  },
  {
   "cell_type": "code",
   "execution_count": null,
   "id": "c1fa9c86",
   "metadata": {},
   "outputs": [],
   "source": [
    "# Cleaning aobve Merged Combined data and keeping Relevant Columns.\n",
    "\n",
    "final_Merge1_Merge2.drop(['Month_x_x','Month_y_x','Month_x_y','Month_y_y'], axis='columns' ,inplace=True)"
   ]
  },
  {
   "cell_type": "code",
   "execution_count": null,
   "id": "8d403514",
   "metadata": {},
   "outputs": [],
   "source": [
    "# Yearly Analysis of Dataset\n",
    "\n",
    "final_Merge1_Merge2"
   ]
  },
  {
   "cell_type": "code",
   "execution_count": null,
   "id": "67d85388",
   "metadata": {},
   "outputs": [],
   "source": [
    "# This is the co-relation fucntion of Vaex Dataframe  but unable to understand its working and unable to fetch the corr()\n",
    "# Values so better to use the Pandaas Corr() function.\n",
    "\n",
    "corr = final_Merge1_Merge2.corr()\n",
    "corr"
   ]
  },
  {
   "cell_type": "code",
   "execution_count": null,
   "id": "254a8188",
   "metadata": {},
   "outputs": [],
   "source": [
    "final_Merge1_Merge2 = vaex.from_pandas(final_Merge1_Merge2)\n",
    "type(final_Merge1_Merge2)"
   ]
  },
  {
   "cell_type": "code",
   "execution_count": null,
   "id": "f354b991",
   "metadata": {},
   "outputs": [],
   "source": [
    "# This is the co-relation fucntion of Vaex Dataframe  but unable to understand its working and unable to fetch the corr()\n",
    "# Values so better to use the Pandaas Corr() function used above already.\n",
    "\n",
    "corr_Vaex = final_Merge1_Merge2.correlation\n",
    "corr_Vaex"
   ]
  },
  {
   "cell_type": "code",
   "execution_count": null,
   "id": "39301aa5",
   "metadata": {},
   "outputs": [],
   "source": [
    "# New york city map"
   ]
  },
  {
   "cell_type": "code",
   "execution_count": null,
   "id": "f3105c74",
   "metadata": {},
   "outputs": [],
   "source": [
    "pip install folium"
   ]
  },
  {
   "cell_type": "code",
   "execution_count": null,
   "id": "d8f83c30",
   "metadata": {
    "scrolled": true
   },
   "outputs": [],
   "source": [
    "#import libraries\n",
    "import folium\n",
    "import folium.plugins\n",
    "\n",
    "#lat and lon center\n",
    "lat_center = 40.77\n",
    "lon_center = -73.96\n",
    "\n",
    "#plot\n",
    "map_ny = folium.Map(location=[lat_center,lon_center],\n",
    "                    tiles=\"openstreetmap\",max_zoom=15,zoom_start=11.5)\n",
    "map_ny"
   ]
  },
  {
   "cell_type": "code",
   "execution_count": null,
   "id": "6f2a8467",
   "metadata": {},
   "outputs": [],
   "source": [
    "trips_ln = data[data[\"Distance_In_KM\"] > 30].head(2)"
   ]
  },
  {
   "cell_type": "code",
   "execution_count": null,
   "id": "2cb63a68",
   "metadata": {},
   "outputs": [],
   "source": [
    "trips_ln"
   ]
  },
  {
   "cell_type": "code",
   "execution_count": null,
   "id": "fa3c89b8",
   "metadata": {},
   "outputs": [],
   "source": [
    "a = trips_ln[\"pickup_latitude\"]\n",
    "aa = trips_ln[\"pickup_longitude\"]\n",
    "\n",
    "# ------------------------------------------------------------------\n",
    "\n",
    "b = trips_ln[\"dropoff_latitude\"]\n",
    "bb = trips_ln[\"dropoff_longitude\"]"
   ]
  },
  {
   "cell_type": "code",
   "execution_count": null,
   "id": "efa4f50c",
   "metadata": {},
   "outputs": [],
   "source": [
    "al = [i for i in a.values]\n",
    "aal = [i for i in aa.values]\n",
    "\n",
    "bl = [i for i in b.values]\n",
    "bbl = [i for i in bb.values]"
   ]
  },
  {
   "cell_type": "code",
   "execution_count": null,
   "id": "b396f6d7",
   "metadata": {
    "scrolled": true
   },
   "outputs": [],
   "source": [
    "al , bl , aal , bbl"
   ]
  },
  {
   "cell_type": "code",
   "execution_count": null,
   "id": "bad7ea71",
   "metadata": {},
   "outputs": [],
   "source": [
    "lat_center = 40.78\n",
    "lon_center = -73.62\n",
    "\n",
    "map_nyc = folium.Map(location=[lat_center,lon_center],\n",
    "                    tiles=\"Stamen Terrain\",max_zoom=15,zoom_start=10)\n",
    "\n",
    "\n",
    "    \n",
    "p1 = [al[1],aal[1]]\n",
    "    \n",
    "p2 = [bl[1],bbl[1]]\n",
    "    \n",
    "folium.Marker(location = p1,\n",
    "                  icon=folium.Icon(color='green',\n",
    "                                   icon = \"home\"),\n",
    "                  popup = \"Pick up = \" + str(p1),\n",
    "                 ).add_to(map_nyc)\n",
    "    \n",
    "folium.Marker(location = p2,\n",
    "                 icon=folium.Icon(color='blue',\n",
    "                                  icon = \"home\"),\n",
    "                  popup = \"Drop off = \" + str(p2),\n",
    "                 ).add_to(map_nyc)\n",
    "    \n",
    "folium.PolyLine(locations = [p1,p2] ,\n",
    "                    color = \"red\",opacity = .9,\n",
    "                   ).add_to(map_nyc)\n",
    "    \n"
   ]
  },
  {
   "cell_type": "code",
   "execution_count": null,
   "id": "14a1aa61",
   "metadata": {},
   "outputs": [],
   "source": []
  },
  {
   "cell_type": "code",
   "execution_count": 19,
   "id": "7182eaa1",
   "metadata": {},
   "outputs": [
    {
     "data": {
      "text/html": [
       "<table>\n",
       "<thead>\n",
       "<tr><th>#                                     </th><th>fare_amount  </th><th>pickup_longitude  </th><th>pickup_latitude  </th><th>dropoff_longitude  </th><th>dropoff_latitude  </th><th>passenger_count  </th><th>Year  </th><th>Month  </th><th>Date  </th><th>Hours  </th><th>Minutes  </th><th>Sec  </th><th>Distance_In_KM    </th></tr>\n",
       "</thead>\n",
       "<tbody>\n",
       "<tr><td><i style='opacity: 0.6'>0</i>         </td><td>4.5          </td><td>-73.844311        </td><td>40.721319        </td><td>-73.84161          </td><td>40.712278         </td><td>1                </td><td>2009  </td><td>6      </td><td>15    </td><td>17     </td><td>26       </td><td>21   </td><td>1.0310875150008654</td></tr>\n",
       "<tr><td><i style='opacity: 0.6'>1</i>         </td><td>16.9         </td><td>-74.016048        </td><td>40.711303        </td><td>-73.979268         </td><td>40.782004         </td><td>1                </td><td>2010  </td><td>1      </td><td>5     </td><td>16     </td><td>52       </td><td>16   </td><td>8.452786282541451 </td></tr>\n",
       "<tr><td><i style='opacity: 0.6'>2</i>         </td><td>5.7          </td><td>-73.982738        </td><td>40.76127         </td><td>-73.991242         </td><td>40.750562         </td><td>2                </td><td>2011  </td><td>8      </td><td>18    </td><td>0      </td><td>35       </td><td>0    </td><td>1.3899614289484374</td></tr>\n",
       "<tr><td><i style='opacity: 0.6'>3</i>         </td><td>7.7          </td><td>-73.98713         </td><td>40.733143        </td><td>-73.991567         </td><td>40.758092         </td><td>1                </td><td>2012  </td><td>4      </td><td>21    </td><td>4      </td><td>30       </td><td>42   </td><td>2.8001489937868067</td></tr>\n",
       "<tr><td><i style='opacity: 0.6'>4</i>         </td><td>5.3          </td><td>-73.968095        </td><td>40.768008        </td><td>-73.956655         </td><td>40.783762         </td><td>1                </td><td>2010  </td><td>3      </td><td>9     </td><td>7      </td><td>51       </td><td>0    </td><td>1.9997843682154544</td></tr>\n",
       "<tr><td>...                                   </td><td>...          </td><td>...               </td><td>...              </td><td>...                </td><td>...               </td><td>...              </td><td>...   </td><td>...    </td><td>...   </td><td>...    </td><td>...      </td><td>...  </td><td>...               </td></tr>\n",
       "<tr><td><i style='opacity: 0.6'>46,406,769</i></td><td>9.5          </td><td>-73.987798        </td><td>40.72121         </td><td>-73.98096          </td><td>40.744388         </td><td>1                </td><td>2012  </td><td>9      </td><td>29    </td><td>19     </td><td>51       </td><td>27   </td><td>2.6417222186373044</td></tr>\n",
       "<tr><td><i style='opacity: 0.6'>46,406,770</i></td><td>12.0         </td><td>-73.98307         </td><td>40.76077         </td><td>-73.972972         </td><td>40.754177         </td><td>1                </td><td>2014  </td><td>1      </td><td>31    </td><td>14     </td><td>42       </td><td>0    </td><td>1.1232303887993595</td></tr>\n",
       "<tr><td><i style='opacity: 0.6'>46,406,771</i></td><td>7.5          </td><td>-73.98472199999999</td><td>40.736837        </td><td>-74.006672         </td><td>40.73962          </td><td>1                </td><td>2014  </td><td>3      </td><td>14    </td><td>1      </td><td>9        </td><td>0    </td><td>1.8756387873559501</td></tr>\n",
       "<tr><td><i style='opacity: 0.6'>46,406,772</i></td><td>14.5         </td><td>-73.99712371826173</td><td>40.7254524230957 </td><td>-73.98321533203125 </td><td>40.69541549682617 </td><td>1                </td><td>2015  </td><td>5      </td><td>20    </td><td>14     </td><td>56       </td><td>25   </td><td>3.5408266479309387</td></tr>\n",
       "<tr><td><i style='opacity: 0.6'>46,406,773</i></td><td>14.1         </td><td>-73.98439499999999</td><td>40.720077        </td><td>-73.985508         </td><td>40.768793         </td><td>1                </td><td>2010  </td><td>5      </td><td>15    </td><td>4      </td><td>8        </td><td>0    </td><td>5.419484244981255 </td></tr>\n",
       "</tbody>\n",
       "</table>"
      ],
      "text/plain": [
       "#           fare_amount    pickup_longitude    pickup_latitude    dropoff_longitude    dropoff_latitude    passenger_count    Year    Month    Date    Hours    Minutes    Sec    Distance_In_KM\n",
       "0           4.5            -73.844311          40.721319          -73.84161            40.712278           1                  2009    6        15      17       26         21     1.0310875150008654\n",
       "1           16.9           -74.016048          40.711303          -73.979268           40.782004           1                  2010    1        5       16       52         16     8.452786282541451\n",
       "2           5.7            -73.982738          40.76127           -73.991242           40.750562           2                  2011    8        18      0        35         0      1.3899614289484374\n",
       "3           7.7            -73.98713           40.733143          -73.991567           40.758092           1                  2012    4        21      4        30         42     2.8001489937868067\n",
       "4           5.3            -73.968095          40.768008          -73.956655           40.783762           1                  2010    3        9       7        51         0      1.9997843682154544\n",
       "...         ...            ...                 ...                ...                  ...                 ...                ...     ...      ...     ...      ...        ...    ...\n",
       "46,406,769  9.5            -73.987798          40.72121           -73.98096            40.744388           1                  2012    9        29      19       51         27     2.6417222186373044\n",
       "46,406,770  12.0           -73.98307           40.76077           -73.972972           40.754177           1                  2014    1        31      14       42         0      1.1232303887993595\n",
       "46,406,771  7.5            -73.98472199999999  40.736837          -74.006672           40.73962            1                  2014    3        14      1        9          0      1.8756387873559501\n",
       "46,406,772  14.5           -73.99712371826173  40.7254524230957   -73.98321533203125   40.69541549682617   1                  2015    5        20      14       56         25     3.5408266479309387\n",
       "46,406,773  14.1           -73.98439499999999  40.720077          -73.985508           40.768793           1                  2010    5        15      4        8          0      5.419484244981255"
      ]
     },
     "execution_count": 19,
     "metadata": {},
     "output_type": "execute_result"
    }
   ],
   "source": [
    "data[data['Distance_In_KM'] < 9]"
   ]
  },
  {
   "cell_type": "code",
   "execution_count": null,
   "id": "c755021a",
   "metadata": {},
   "outputs": [],
   "source": [
    "#========================================================================================================================="
   ]
  },
  {
   "cell_type": "code",
   "execution_count": null,
   "id": "221cad95",
   "metadata": {},
   "outputs": [],
   "source": [
    "# Exploratory Data Analysis ( EDA ) is COMPLETED NOW."
   ]
  },
  {
   "cell_type": "code",
   "execution_count": null,
   "id": "0574a0a3",
   "metadata": {},
   "outputs": [],
   "source": [
    "#========================================================================================================================="
   ]
  },
  {
   "cell_type": "code",
   "execution_count": 16,
   "id": "4b374734",
   "metadata": {},
   "outputs": [],
   "source": [
    "from sklearn.model_selection import train_test_split"
   ]
  },
  {
   "cell_type": "code",
   "execution_count": 17,
   "id": "98829030",
   "metadata": {
    "scrolled": true
   },
   "outputs": [
    {
     "data": {
      "text/html": [
       "<table>\n",
       "<thead>\n",
       "<tr><th>#                                     </th><th>fare_amount  </th><th>pickup_longitude  </th><th>pickup_latitude  </th><th>dropoff_longitude  </th><th>dropoff_latitude  </th><th>Year  </th><th>Month  </th><th>Date  </th><th>Hours  </th><th>Minutes  </th><th>Distance_In_KM    </th></tr>\n",
       "</thead>\n",
       "<tbody>\n",
       "<tr><td><i style='opacity: 0.6'>0</i>         </td><td>4.5          </td><td>-73.844311        </td><td>40.721319        </td><td>-73.84161          </td><td>40.712278         </td><td>2009  </td><td>6      </td><td>15    </td><td>17     </td><td>26       </td><td>1.0310875150008654</td></tr>\n",
       "<tr><td><i style='opacity: 0.6'>1</i>         </td><td>16.9         </td><td>-74.016048        </td><td>40.711303        </td><td>-73.979268         </td><td>40.782004         </td><td>2010  </td><td>1      </td><td>5     </td><td>16     </td><td>52       </td><td>8.452786282541451 </td></tr>\n",
       "<tr><td><i style='opacity: 0.6'>2</i>         </td><td>5.7          </td><td>-73.982738        </td><td>40.76127         </td><td>-73.991242         </td><td>40.750562         </td><td>2011  </td><td>8      </td><td>18    </td><td>0      </td><td>35       </td><td>1.3899614289484374</td></tr>\n",
       "<tr><td><i style='opacity: 0.6'>3</i>         </td><td>7.7          </td><td>-73.98713         </td><td>40.733143        </td><td>-73.991567         </td><td>40.758092         </td><td>2012  </td><td>4      </td><td>21    </td><td>4      </td><td>30       </td><td>2.8001489937868067</td></tr>\n",
       "<tr><td><i style='opacity: 0.6'>4</i>         </td><td>5.3          </td><td>-73.968095        </td><td>40.768008        </td><td>-73.956655         </td><td>40.783762         </td><td>2010  </td><td>3      </td><td>9     </td><td>7      </td><td>51       </td><td>1.9997843682154544</td></tr>\n",
       "<tr><td>...                                   </td><td>...          </td><td>...               </td><td>...              </td><td>...                </td><td>...               </td><td>...   </td><td>...    </td><td>...   </td><td>...    </td><td>...      </td><td>...               </td></tr>\n",
       "<tr><td><i style='opacity: 0.6'>49,932,079</i></td><td>12.0         </td><td>-73.98307         </td><td>40.76077         </td><td>-73.972972         </td><td>40.754177         </td><td>2014  </td><td>1      </td><td>31    </td><td>14     </td><td>42       </td><td>1.1232303887993595</td></tr>\n",
       "<tr><td><i style='opacity: 0.6'>49,932,080</i></td><td>7.5          </td><td>-73.98472199999999</td><td>40.736837        </td><td>-74.006672         </td><td>40.73962          </td><td>2014  </td><td>3      </td><td>14    </td><td>1      </td><td>9        </td><td>1.8756387873559501</td></tr>\n",
       "<tr><td><i style='opacity: 0.6'>49,932,081</i></td><td>30.9         </td><td>-73.986017        </td><td>40.756487        </td><td>-73.85895699999999 </td><td>40.692588         </td><td>2009  </td><td>6      </td><td>29    </td><td>0      </td><td>42       </td><td>12.854353121391023</td></tr>\n",
       "<tr><td><i style='opacity: 0.6'>49,932,082</i></td><td>14.5         </td><td>-73.99712371826173</td><td>40.7254524230957 </td><td>-73.98321533203125 </td><td>40.69541549682617 </td><td>2015  </td><td>5      </td><td>20    </td><td>14     </td><td>56       </td><td>3.5408266479309387</td></tr>\n",
       "<tr><td><i style='opacity: 0.6'>49,932,083</i></td><td>14.1         </td><td>-73.98439499999999</td><td>40.720077        </td><td>-73.985508         </td><td>40.768793         </td><td>2010  </td><td>5      </td><td>15    </td><td>4      </td><td>8        </td><td>5.419484244981255 </td></tr>\n",
       "</tbody>\n",
       "</table>"
      ],
      "text/plain": [
       "#           fare_amount    pickup_longitude    pickup_latitude    dropoff_longitude    dropoff_latitude    Year    Month    Date    Hours    Minutes    Distance_In_KM\n",
       "0           4.5            -73.844311          40.721319          -73.84161            40.712278           2009    6        15      17       26         1.0310875150008654\n",
       "1           16.9           -74.016048          40.711303          -73.979268           40.782004           2010    1        5       16       52         8.452786282541451\n",
       "2           5.7            -73.982738          40.76127           -73.991242           40.750562           2011    8        18      0        35         1.3899614289484374\n",
       "3           7.7            -73.98713           40.733143          -73.991567           40.758092           2012    4        21      4        30         2.8001489937868067\n",
       "4           5.3            -73.968095          40.768008          -73.956655           40.783762           2010    3        9       7        51         1.9997843682154544\n",
       "...         ...            ...                 ...                ...                  ...                 ...     ...      ...     ...      ...        ...\n",
       "49,932,079  12.0           -73.98307           40.76077           -73.972972           40.754177           2014    1        31      14       42         1.1232303887993595\n",
       "49,932,080  7.5            -73.98472199999999  40.736837          -74.006672           40.73962            2014    3        14      1        9          1.8756387873559501\n",
       "49,932,081  30.9           -73.986017          40.756487          -73.85895699999999   40.692588           2009    6        29      0        42         12.854353121391023\n",
       "49,932,082  14.5           -73.99712371826173  40.7254524230957   -73.98321533203125   40.69541549682617   2015    5        20      14       56         3.5408266479309387\n",
       "49,932,083  14.1           -73.98439499999999  40.720077          -73.985508           40.768793           2010    5        15      4        8          5.419484244981255"
      ]
     },
     "execution_count": 17,
     "metadata": {},
     "output_type": "execute_result"
    }
   ],
   "source": [
    "X = data.drop(['key','pickup_datetime','passenger_count','Sec'])\n",
    "X"
   ]
  },
  {
   "cell_type": "code",
   "execution_count": 18,
   "id": "f61fc882",
   "metadata": {},
   "outputs": [],
   "source": [
    "Y = data.drop([ 'key','pickup_datetime' , 'pickup_longitude' , 'pickup_latitude' , 'dropoff_longitude' , 'dropoff_latitude' , 'passenger_count' , 'Year' , 'Month' , 'Date' , 'Hours' , 'Minutes' , 'Sec' , 'Distance_In_KM'])"
   ]
  },
  {
   "cell_type": "code",
   "execution_count": 19,
   "id": "ccf54542",
   "metadata": {},
   "outputs": [],
   "source": [
    "X_pandas = X.to_pandas_df()\n",
    "Y_pandas = Y.to_pandas_df()"
   ]
  },
  {
   "cell_type": "code",
   "execution_count": null,
   "id": "a54010fd",
   "metadata": {},
   "outputs": [],
   "source": []
  },
  {
   "cell_type": "code",
   "execution_count": 20,
   "id": "713e9aa3",
   "metadata": {},
   "outputs": [],
   "source": [
    "X_pandas = X_pandas.reset_index()\n",
    "Y_pandas = Y_pandas.reset_index()"
   ]
  },
  {
   "cell_type": "code",
   "execution_count": 21,
   "id": "4a01cda5",
   "metadata": {},
   "outputs": [],
   "source": [
    "a = X_pandas.copy()\n",
    "b = Y_pandas.copy()"
   ]
  },
  {
   "cell_type": "code",
   "execution_count": 37,
   "id": "6a21cb94",
   "metadata": {},
   "outputs": [
    {
     "data": {
      "text/html": [
       "<div>\n",
       "<style scoped>\n",
       "    .dataframe tbody tr th:only-of-type {\n",
       "        vertical-align: middle;\n",
       "    }\n",
       "\n",
       "    .dataframe tbody tr th {\n",
       "        vertical-align: top;\n",
       "    }\n",
       "\n",
       "    .dataframe thead th {\n",
       "        text-align: right;\n",
       "    }\n",
       "</style>\n",
       "<table border=\"1\" class=\"dataframe\">\n",
       "  <thead>\n",
       "    <tr style=\"text-align: right;\">\n",
       "      <th></th>\n",
       "      <th>index</th>\n",
       "      <th>pickup_longitude</th>\n",
       "      <th>pickup_latitude</th>\n",
       "      <th>dropoff_longitude</th>\n",
       "      <th>dropoff_latitude</th>\n",
       "      <th>Year</th>\n",
       "      <th>Month</th>\n",
       "      <th>Date</th>\n",
       "      <th>Hours</th>\n",
       "      <th>Minutes</th>\n",
       "      <th>Distance_In_KM</th>\n",
       "    </tr>\n",
       "  </thead>\n",
       "  <tbody>\n",
       "    <tr>\n",
       "      <th>0</th>\n",
       "      <td>0</td>\n",
       "      <td>-73.844311</td>\n",
       "      <td>40.721319</td>\n",
       "      <td>-73.841610</td>\n",
       "      <td>40.712278</td>\n",
       "      <td>2009</td>\n",
       "      <td>6</td>\n",
       "      <td>15</td>\n",
       "      <td>17</td>\n",
       "      <td>26</td>\n",
       "      <td>1.031088</td>\n",
       "    </tr>\n",
       "    <tr>\n",
       "      <th>1</th>\n",
       "      <td>1</td>\n",
       "      <td>-74.016048</td>\n",
       "      <td>40.711303</td>\n",
       "      <td>-73.979268</td>\n",
       "      <td>40.782004</td>\n",
       "      <td>2010</td>\n",
       "      <td>1</td>\n",
       "      <td>5</td>\n",
       "      <td>16</td>\n",
       "      <td>52</td>\n",
       "      <td>8.452786</td>\n",
       "    </tr>\n",
       "    <tr>\n",
       "      <th>2</th>\n",
       "      <td>2</td>\n",
       "      <td>-73.982738</td>\n",
       "      <td>40.761270</td>\n",
       "      <td>-73.991242</td>\n",
       "      <td>40.750562</td>\n",
       "      <td>2011</td>\n",
       "      <td>8</td>\n",
       "      <td>18</td>\n",
       "      <td>0</td>\n",
       "      <td>35</td>\n",
       "      <td>1.389961</td>\n",
       "    </tr>\n",
       "    <tr>\n",
       "      <th>3</th>\n",
       "      <td>3</td>\n",
       "      <td>-73.987130</td>\n",
       "      <td>40.733143</td>\n",
       "      <td>-73.991567</td>\n",
       "      <td>40.758092</td>\n",
       "      <td>2012</td>\n",
       "      <td>4</td>\n",
       "      <td>21</td>\n",
       "      <td>4</td>\n",
       "      <td>30</td>\n",
       "      <td>2.800149</td>\n",
       "    </tr>\n",
       "    <tr>\n",
       "      <th>4</th>\n",
       "      <td>4</td>\n",
       "      <td>-73.968095</td>\n",
       "      <td>40.768008</td>\n",
       "      <td>-73.956655</td>\n",
       "      <td>40.783762</td>\n",
       "      <td>2010</td>\n",
       "      <td>3</td>\n",
       "      <td>9</td>\n",
       "      <td>7</td>\n",
       "      <td>51</td>\n",
       "      <td>1.999784</td>\n",
       "    </tr>\n",
       "    <tr>\n",
       "      <th>...</th>\n",
       "      <td>...</td>\n",
       "      <td>...</td>\n",
       "      <td>...</td>\n",
       "      <td>...</td>\n",
       "      <td>...</td>\n",
       "      <td>...</td>\n",
       "      <td>...</td>\n",
       "      <td>...</td>\n",
       "      <td>...</td>\n",
       "      <td>...</td>\n",
       "      <td>...</td>\n",
       "    </tr>\n",
       "    <tr>\n",
       "      <th>49932079</th>\n",
       "      <td>49932079</td>\n",
       "      <td>-73.983070</td>\n",
       "      <td>40.760770</td>\n",
       "      <td>-73.972972</td>\n",
       "      <td>40.754177</td>\n",
       "      <td>2014</td>\n",
       "      <td>1</td>\n",
       "      <td>31</td>\n",
       "      <td>14</td>\n",
       "      <td>42</td>\n",
       "      <td>1.123230</td>\n",
       "    </tr>\n",
       "    <tr>\n",
       "      <th>49932080</th>\n",
       "      <td>49932080</td>\n",
       "      <td>-73.984722</td>\n",
       "      <td>40.736837</td>\n",
       "      <td>-74.006672</td>\n",
       "      <td>40.739620</td>\n",
       "      <td>2014</td>\n",
       "      <td>3</td>\n",
       "      <td>14</td>\n",
       "      <td>1</td>\n",
       "      <td>9</td>\n",
       "      <td>1.875639</td>\n",
       "    </tr>\n",
       "    <tr>\n",
       "      <th>49932081</th>\n",
       "      <td>49932081</td>\n",
       "      <td>-73.986017</td>\n",
       "      <td>40.756487</td>\n",
       "      <td>-73.858957</td>\n",
       "      <td>40.692588</td>\n",
       "      <td>2009</td>\n",
       "      <td>6</td>\n",
       "      <td>29</td>\n",
       "      <td>0</td>\n",
       "      <td>42</td>\n",
       "      <td>12.854353</td>\n",
       "    </tr>\n",
       "    <tr>\n",
       "      <th>49932082</th>\n",
       "      <td>49932082</td>\n",
       "      <td>-73.997124</td>\n",
       "      <td>40.725452</td>\n",
       "      <td>-73.983215</td>\n",
       "      <td>40.695415</td>\n",
       "      <td>2015</td>\n",
       "      <td>5</td>\n",
       "      <td>20</td>\n",
       "      <td>14</td>\n",
       "      <td>56</td>\n",
       "      <td>3.540827</td>\n",
       "    </tr>\n",
       "    <tr>\n",
       "      <th>49932083</th>\n",
       "      <td>49932083</td>\n",
       "      <td>-73.984395</td>\n",
       "      <td>40.720077</td>\n",
       "      <td>-73.985508</td>\n",
       "      <td>40.768793</td>\n",
       "      <td>2010</td>\n",
       "      <td>5</td>\n",
       "      <td>15</td>\n",
       "      <td>4</td>\n",
       "      <td>8</td>\n",
       "      <td>5.419484</td>\n",
       "    </tr>\n",
       "  </tbody>\n",
       "</table>\n",
       "<p>49932084 rows × 11 columns</p>\n",
       "</div>"
      ],
      "text/plain": [
       "             index  pickup_longitude  pickup_latitude  dropoff_longitude  \\\n",
       "0                0        -73.844311        40.721319         -73.841610   \n",
       "1                1        -74.016048        40.711303         -73.979268   \n",
       "2                2        -73.982738        40.761270         -73.991242   \n",
       "3                3        -73.987130        40.733143         -73.991567   \n",
       "4                4        -73.968095        40.768008         -73.956655   \n",
       "...            ...               ...              ...                ...   \n",
       "49932079  49932079        -73.983070        40.760770         -73.972972   \n",
       "49932080  49932080        -73.984722        40.736837         -74.006672   \n",
       "49932081  49932081        -73.986017        40.756487         -73.858957   \n",
       "49932082  49932082        -73.997124        40.725452         -73.983215   \n",
       "49932083  49932083        -73.984395        40.720077         -73.985508   \n",
       "\n",
       "          dropoff_latitude  Year  Month  Date  Hours  Minutes  Distance_In_KM  \n",
       "0                40.712278  2009      6    15     17       26        1.031088  \n",
       "1                40.782004  2010      1     5     16       52        8.452786  \n",
       "2                40.750562  2011      8    18      0       35        1.389961  \n",
       "3                40.758092  2012      4    21      4       30        2.800149  \n",
       "4                40.783762  2010      3     9      7       51        1.999784  \n",
       "...                    ...   ...    ...   ...    ...      ...             ...  \n",
       "49932079         40.754177  2014      1    31     14       42        1.123230  \n",
       "49932080         40.739620  2014      3    14      1        9        1.875639  \n",
       "49932081         40.692588  2009      6    29      0       42       12.854353  \n",
       "49932082         40.695415  2015      5    20     14       56        3.540827  \n",
       "49932083         40.768793  2010      5    15      4        8        5.419484  \n",
       "\n",
       "[49932084 rows x 11 columns]"
      ]
     },
     "execution_count": 37,
     "metadata": {},
     "output_type": "execute_result"
    }
   ],
   "source": [
    "X_pandas"
   ]
  },
  {
   "cell_type": "code",
   "execution_count": 22,
   "id": "4c72aa6f",
   "metadata": {},
   "outputs": [],
   "source": [
    "X_pandas = X_pandas[X_pandas['index'] < 50000000]\n",
    "Y_pandas = Y_pandas[Y_pandas['index'] < 50000000]"
   ]
  },
  {
   "cell_type": "code",
   "execution_count": null,
   "id": "4e52e195",
   "metadata": {},
   "outputs": [],
   "source": []
  },
  {
   "cell_type": "code",
   "execution_count": 23,
   "id": "a66f7e9f",
   "metadata": {},
   "outputs": [],
   "source": [
    "X_pandas.drop(['index'],axis=1,inplace=True)\n",
    "Y_pandas.drop(['index'],axis=1,inplace=True)"
   ]
  },
  {
   "cell_type": "code",
   "execution_count": 24,
   "id": "e3aa0436",
   "metadata": {},
   "outputs": [],
   "source": [
    "x_train , x_test , y_train , y_test = train_test_split(X_pandas , Y_pandas , test_size=0.3 , random_state=50)"
   ]
  },
  {
   "cell_type": "code",
   "execution_count": 25,
   "id": "e1523b70",
   "metadata": {},
   "outputs": [
    {
     "data": {
      "text/plain": [
       "(14979626, 11)"
      ]
     },
     "execution_count": 25,
     "metadata": {},
     "output_type": "execute_result"
    }
   ],
   "source": [
    "x_test.shape"
   ]
  },
  {
   "cell_type": "code",
   "execution_count": 26,
   "id": "a47b9430",
   "metadata": {},
   "outputs": [],
   "source": [
    "from sklearn.linear_model import LinearRegression"
   ]
  },
  {
   "cell_type": "code",
   "execution_count": null,
   "id": "80049ab8",
   "metadata": {},
   "outputs": [],
   "source": []
  },
  {
   "cell_type": "code",
   "execution_count": 27,
   "id": "be66bc60",
   "metadata": {},
   "outputs": [],
   "source": [
    "model = LinearRegression()"
   ]
  },
  {
   "cell_type": "code",
   "execution_count": null,
   "id": "ab22ef18",
   "metadata": {},
   "outputs": [],
   "source": []
  },
  {
   "cell_type": "code",
   "execution_count": 28,
   "id": "22f05104",
   "metadata": {},
   "outputs": [
    {
     "data": {
      "text/plain": [
       "LinearRegression()"
      ]
     },
     "execution_count": 28,
     "metadata": {},
     "output_type": "execute_result"
    }
   ],
   "source": [
    "model.fit(x_train, y_train)"
   ]
  },
  {
   "cell_type": "code",
   "execution_count": null,
   "id": "4b167c53",
   "metadata": {},
   "outputs": [],
   "source": []
  },
  {
   "cell_type": "code",
   "execution_count": 29,
   "id": "9967089b",
   "metadata": {},
   "outputs": [],
   "source": [
    "prediction = model.predict(x_test)"
   ]
  },
  {
   "cell_type": "code",
   "execution_count": 30,
   "id": "91ccbafb",
   "metadata": {},
   "outputs": [],
   "source": [
    "from sklearn.metrics import mean_squared_error"
   ]
  },
  {
   "cell_type": "code",
   "execution_count": 31,
   "id": "57e09c98",
   "metadata": {},
   "outputs": [
    {
     "name": "stdout",
     "output_type": "stream",
     "text": [
      "TEST RMSE SCORE IS : 0.000\n"
     ]
    }
   ],
   "source": [
    "print(\"TEST RMSE SCORE IS : %.3f\" % mean_squared_error(y_test,prediction) ** 0.5)"
   ]
  },
  {
   "cell_type": "code",
   "execution_count": 32,
   "id": "671f0f3a",
   "metadata": {
    "scrolled": true
   },
   "outputs": [
    {
     "data": {
      "text/plain": [
       "1.0"
      ]
     },
     "execution_count": 32,
     "metadata": {},
     "output_type": "execute_result"
    }
   ],
   "source": [
    "model.score(x_test,y_test)"
   ]
  },
  {
   "cell_type": "code",
   "execution_count": null,
   "id": "3c4b355f",
   "metadata": {},
   "outputs": [],
   "source": []
  },
  {
   "cell_type": "code",
   "execution_count": null,
   "id": "617f28ad",
   "metadata": {},
   "outputs": [],
   "source": []
  },
  {
   "cell_type": "code",
   "execution_count": null,
   "id": "0344fa0e",
   "metadata": {},
   "outputs": [],
   "source": [
    "# Dump your model\n",
    "with open('NewYork_taxi_price_prediction_model.pkl', 'wb') as files:\n",
    "    pickle.dump(model, files)"
   ]
  },
  {
   "cell_type": "code",
   "execution_count": null,
   "id": "751aaa09",
   "metadata": {},
   "outputs": [],
   "source": []
  },
  {
   "cell_type": "code",
   "execution_count": null,
   "id": "3da8185f",
   "metadata": {},
   "outputs": [],
   "source": [
    "# Load the saved model\n",
    "with open('tax.pkl','rb') as file:\n",
    "    mp = pickle.load(file)\n",
    "mp"
   ]
  },
  {
   "cell_type": "code",
   "execution_count": null,
   "id": "fcfb6a5c",
   "metadata": {},
   "outputs": [],
   "source": []
  },
  {
   "cell_type": "code",
   "execution_count": null,
   "id": "0604cb05",
   "metadata": {},
   "outputs": [],
   "source": []
  },
  {
   "cell_type": "code",
   "execution_count": null,
   "id": "85fdf686",
   "metadata": {},
   "outputs": [],
   "source": []
  },
  {
   "cell_type": "code",
   "execution_count": null,
   "id": "910cb3c4",
   "metadata": {},
   "outputs": [],
   "source": [
    "x_test"
   ]
  },
  {
   "cell_type": "code",
   "execution_count": null,
   "id": "3ad12572",
   "metadata": {},
   "outputs": [],
   "source": [
    "model = LinearRegression()\n",
    "model.fit(x_train, y_train)\n",
    "prediction = model.predict(x_test)"
   ]
  },
  {
   "cell_type": "code",
   "execution_count": null,
   "id": "d0715d0c",
   "metadata": {},
   "outputs": [],
   "source": []
  },
  {
   "cell_type": "code",
   "execution_count": 1,
   "id": "abe9f634",
   "metadata": {},
   "outputs": [
    {
     "name": "stdout",
     "output_type": "stream",
     "text": [
      "Note: you may need to restart the kernel to use updated packages.\n"
     ]
    }
   ],
   "source": [
    "pip freeze > aman.txt"
   ]
  },
  {
   "cell_type": "code",
   "execution_count": null,
   "id": "fac7c442",
   "metadata": {},
   "outputs": [],
   "source": []
  },
  {
   "cell_type": "code",
   "execution_count": 12,
   "id": "e1d6fdd1",
   "metadata": {},
   "outputs": [],
   "source": [
    "add1 = "
   ]
  },
  {
   "cell_type": "code",
   "execution_count": 13,
   "id": "bdc099d4",
   "metadata": {},
   "outputs": [],
   "source": [
    "from geopy.geocoders import Nominatim\n",
    "\n",
    "def Lati_longi(add1):\n",
    "    geolocator = Nominatim(user_agent=\"AmanTiwari\")\n",
    "    location = geolocator.geocode(add1)\n",
    "    return [location.latitude, location.longitude]"
   ]
  },
  {
   "cell_type": "code",
   "execution_count": 17,
   "id": "e70e2e35",
   "metadata": {},
   "outputs": [
    {
     "data": {
      "text/plain": [
       "[40.708371761904765, -73.96185438095239]"
      ]
     },
     "execution_count": 17,
     "metadata": {},
     "output_type": "execute_result"
    }
   ],
   "source": [
    "Lati_longi('175 S 9th St, Brooklyn, NY 11211, United States')"
   ]
  },
  {
   "cell_type": "code",
   "execution_count": 18,
   "id": "96ce37c5",
   "metadata": {},
   "outputs": [
    {
     "data": {
      "text/plain": [
       "[40.8488108, -73.905773]"
      ]
     },
     "execution_count": 18,
     "metadata": {},
     "output_type": "execute_result"
    }
   ],
   "source": [
    "Lati_longi('1884 Monroe Ave, The Bronx, NY 10457, United States')"
   ]
  },
  {
   "cell_type": "code",
   "execution_count": null,
   "id": "78cc7748",
   "metadata": {},
   "outputs": [],
   "source": []
  }
 ],
 "metadata": {
  "kernelspec": {
   "display_name": "Python 3 (ipykernel)",
   "language": "python",
   "name": "python3"
  },
  "language_info": {
   "codemirror_mode": {
    "name": "ipython",
    "version": 3
   },
   "file_extension": ".py",
   "mimetype": "text/x-python",
   "name": "python",
   "nbconvert_exporter": "python",
   "pygments_lexer": "ipython3",
   "version": "3.9.12"
  }
 },
 "nbformat": 4,
 "nbformat_minor": 5
}
